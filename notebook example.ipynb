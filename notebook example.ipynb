{
 "cells": [
  {
   "cell_type": "code",
   "execution_count": null,
   "id": "234e808c",
   "metadata": {},
   "outputs": [],
   "source": [
    "from towhee import pipeline\n",
    "import towhee"
   ]
  },
  {
   "cell_type": "code",
   "execution_count": null,
   "id": "6aac7e42",
   "metadata": {},
   "outputs": [],
   "source": [
    "from collections import namedtuple\n",
    "from typing import Any\n",
    "import cv2\n",
    "import numpy\n",
    "from towhee.operator.base import Operator, SharedType\n",
    "\n",
    "from hyperparameter import param_scope"
   ]
  },
  {
   "cell_type": "markdown",
   "id": "45eb91e4",
   "metadata": {},
   "source": [
    "# register a class as operator"
   ]
  },
  {
   "cell_type": "code",
   "execution_count": null,
   "id": "9b2a372e",
   "metadata": {},
   "outputs": [],
   "source": [
    "@towhee.register(\n",
    "    name='towheeoperator/imread2',\n",
    "    version='0.1',\n",
    "    author='reiase',\n",
    "    output_schema = namedtuple('Outputs', [('im')])\n",
    ")\n",
    "class Imread2(Operator):\n",
    "    \"\"\" read a image from camera\n",
    "    \n",
    "    open the camera and read an image.\n",
    "    \"\"\"\n",
    "    def __init__(self, input):\n",
    "        self._input = input\n",
    "        self._cap = cv2.VideoCapture(self._input)\n",
    "\n",
    "        with param_scope() as hp:\n",
    "            self._scale = hp().towheeoperator.imread.scale.getOrElse(1.0)\n",
    "    def __call__(self, im: int):\n",
    "        while True:\n",
    "            retval, im = self._cap.read()\n",
    "            if self._scale != 1.0:\n",
    "                w = int(im.shape[1] * self._scale)\n",
    "                h = int(im.shape[0] * self._scale)\n",
    "                im = cv2.resize(im, (w, h))\n",
    "            if retval:\n",
    "                return im\n",
    "                #return namedtuple('Outputs', [('im')])(im)\n",
    "\n",
    "#     @property\n",
    "#     def shared_type(self):\n",
    "#         return SharedType.Shareable\n"
   ]
  },
  {
   "cell_type": "markdown",
   "id": "fd486ed4",
   "metadata": {},
   "source": [
    "# register an function as operator"
   ]
  },
  {
   "cell_type": "code",
   "execution_count": null,
   "id": "db41946c",
   "metadata": {},
   "outputs": [],
   "source": [
    "_cap = cv2.VideoCapture(0)\n",
    "@towhee.register(\n",
    "    name='towheeoperator/imread2',\n",
    "    version='0.1',\n",
    "    author='reiase',\n",
    "    output_schema = namedtuple('Outputs', [('im')])\n",
    ")\n",
    "def Imread2(im: int):\n",
    "    while True:\n",
    "        retval, im = _cap.read()\n",
    "        if retval:\n",
    "            return im"
   ]
  },
  {
   "cell_type": "markdown",
   "id": "e249d2b0",
   "metadata": {},
   "source": [
    "# metadata for operator"
   ]
  },
  {
   "cell_type": "code",
   "execution_count": null,
   "id": "ac51ab55",
   "metadata": {},
   "outputs": [],
   "source": [
    "Imread2.metainfo"
   ]
  },
  {
   "cell_type": "markdown",
   "id": "463f6ef1",
   "metadata": {},
   "source": [
    "# run operator"
   ]
  },
  {
   "cell_type": "code",
   "execution_count": null,
   "id": "9838cec3",
   "metadata": {},
   "outputs": [],
   "source": [
    "with param_scope() as hp:\n",
    "    hp.variables.read_op = 'towheeoperator/imread2'\n",
    "    pipe = pipeline('video_cap/video_cap2_template.yaml')"
   ]
  },
  {
   "cell_type": "code",
   "execution_count": null,
   "id": "dfe397cc",
   "metadata": {},
   "outputs": [],
   "source": [
    "pipe(0)"
   ]
  }
 ],
 "metadata": {
  "kernelspec": {
   "display_name": "Python 3 (ipykernel)",
   "language": "python",
   "name": "python3"
  },
  "language_info": {
   "codemirror_mode": {
    "name": "ipython",
    "version": 3
   },
   "file_extension": ".py",
   "mimetype": "text/x-python",
   "name": "python",
   "nbconvert_exporter": "python",
   "pygments_lexer": "ipython3",
   "version": "3.9.9"
  }
 },
 "nbformat": 4,
 "nbformat_minor": 5
}
